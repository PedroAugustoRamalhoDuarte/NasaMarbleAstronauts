{
 "cells": [
  {
   "cell_type": "code",
   "execution_count": 17,
   "metadata": {},
   "outputs": [
    {
     "ename": "FileNotFoundError",
     "evalue": "[Errno 2] No such file or directory: 'data/LosAngeles.csv'",
     "output_type": "error",
     "traceback": [
      "\u001b[0;31m----------------------------------------------------------------\u001b[0m",
      "\u001b[0;31mFileNotFoundError\u001b[0m              Traceback (most recent call last)",
      "\u001b[0;32m<ipython-input-17-eceff3de3119>\u001b[0m in \u001b[0;36m<module>\u001b[0;34m\u001b[0m\n\u001b[1;32m      8\u001b[0m \u001b[0;31m#print(LAData[0][2])\u001b[0m\u001b[0;34m\u001b[0m\u001b[0;34m\u001b[0m\u001b[0;34m\u001b[0m\u001b[0m\n\u001b[1;32m      9\u001b[0m \u001b[0mdict\u001b[0m \u001b[0;34m=\u001b[0m \u001b[0;34m[\u001b[0m\u001b[0;34m]\u001b[0m\u001b[0;34m\u001b[0m\u001b[0;34m\u001b[0m\u001b[0m\n\u001b[0;32m---> 10\u001b[0;31m \u001b[0;32mwith\u001b[0m \u001b[0mopen\u001b[0m\u001b[0;34m(\u001b[0m\u001b[0;34m'data/LosAngeles.csv'\u001b[0m\u001b[0;34m)\u001b[0m \u001b[0;32mas\u001b[0m \u001b[0mcsv_file\u001b[0m\u001b[0;34m:\u001b[0m\u001b[0;34m\u001b[0m\u001b[0;34m\u001b[0m\u001b[0m\n\u001b[0m\u001b[1;32m     11\u001b[0m     \u001b[0mcsv_reader\u001b[0m \u001b[0;34m=\u001b[0m \u001b[0mcsv\u001b[0m\u001b[0;34m.\u001b[0m\u001b[0mreader\u001b[0m\u001b[0;34m(\u001b[0m\u001b[0mcsv_file\u001b[0m\u001b[0;34m,\u001b[0m \u001b[0mdelimiter\u001b[0m\u001b[0;34m=\u001b[0m\u001b[0;34m','\u001b[0m\u001b[0;34m)\u001b[0m\u001b[0;34m\u001b[0m\u001b[0;34m\u001b[0m\u001b[0m\n\u001b[1;32m     12\u001b[0m     \u001b[0mline_count\u001b[0m \u001b[0;34m=\u001b[0m \u001b[0;36m0\u001b[0m\u001b[0;34m\u001b[0m\u001b[0;34m\u001b[0m\u001b[0m\n",
      "\u001b[0;31mFileNotFoundError\u001b[0m: [Errno 2] No such file or directory: 'data/LosAngeles.csv'"
     ]
    }
   ],
   "source": [
    "import pandas\n",
    "import csv\n",
    "import numpy as np\n",
    "#LAData = pandas.read_csv('data/LosAngeles.csv')\n",
    "#print(type(LAData))\n",
    "#LAData.get_value(1, 'averagingperiod')\n",
    "#print(LAData.get_values())\n",
    "#print(LAData[0][2])\n",
    "dict = []\n",
    "with open('data/LosAngeles.csv') as csv_file:\n",
    "    csv_reader = csv.reader(csv_file, delimiter=',')\n",
    "    line_count = 0\n",
    "    for row in csv_reader:\n",
    "        if line_count == 0:\n",
    "            print(f'Column names are {\", \".join(row)}')\n",
    "            line_count += 1\n",
    "        else:\n",
    "            dict.append(\n",
    "                {\n",
    "                    \"date\": row[0],\n",
    "                    \"parameter\": row[1],\n",
    "                    \"location\": row[2],\n",
    "                    \"value\": row[3],\n",
    "                    \"unit\": row[4],\n",
    "                    \"city\": row[5],\n",
    "                    \"attribution\": row[6],\n",
    "                    \"averagingperiod\": row[7],\n",
    "                    \"coordinates\": row[8],\n",
    "                    \"country\": row[9],\n",
    "                    \"sourcename\": row[10],\n",
    "                    \"sourcetype\": row[11],\n",
    "                    \"mobile\": row[12]\n",
    "                }\n",
    "            )\n",
    "            line_count += 1\n",
    "    print(f'Processed {line_count} lines.')\n",
    "\n",
    "LAList_co = [float(item['value']) for item in dict if item['parameter'] == 'co']\n",
    "LAList_no2 = [float(item['value']) for item in dict if item['parameter'] == 'no2']\n",
    "LAList_o3 = [float(item['value']) for item in dict if item['parameter'] == 'o3']\n",
    "LAList_so2 = [float(item['value']) for item in dict if item['parameter'] == 'so2']\n",
    "LAList_pm10 = [float(item['value']) for item in dict if item['parameter'] == 'pm10']\n",
    "LAList_pm25 = [float(item['value']) for item in dict if item['parameter'] == 'pm25']\n",
    "print(\"Quantidade de co:\" + str(sum(LAList_co)/len(LAList_co)))\n",
    "print(\"Quantidade de no2:\" + str(sum(LAList_no2)/len(LAList_no2)))\n",
    "print(\"Quantidade de o3:\" + str(sum(LAList_o3)/len(LAList_o3)))\n",
    "print(\"Quantidade de so2:\" + str(sum(LAList_so2)/len(LAList_so2)))\n",
    "print(\"Quantidade de pm10:\" + str(sum(LAList_pm10)/len(LAList_pm10)))\n",
    "print(\"Quantidade de pm25:\" + str(sum(LAList_pm25)/len(LAList_pm25)))"
   ]
  },
  {
   "cell_type": "code",
   "execution_count": null,
   "metadata": {},
   "outputs": [],
   "source": []
  },
  {
   "cell_type": "code",
   "execution_count": null,
   "metadata": {},
   "outputs": [],
   "source": []
  },
  {
   "cell_type": "code",
   "execution_count": null,
   "metadata": {},
   "outputs": [],
   "source": []
  },
  {
   "cell_type": "code",
   "execution_count": null,
   "metadata": {},
   "outputs": [],
   "source": []
  }
 ],
 "metadata": {
  "kernelspec": {
   "display_name": "Python 3",
   "language": "python",
   "name": "python3"
  },
  "language_info": {
   "codemirror_mode": {
    "name": "ipython",
    "version": 3
   },
   "file_extension": ".py",
   "mimetype": "text/x-python",
   "name": "python",
   "nbconvert_exporter": "python",
   "pygments_lexer": "ipython3",
   "version": "3.7.4"
  }
 },
 "nbformat": 4,
 "nbformat_minor": 2
}
